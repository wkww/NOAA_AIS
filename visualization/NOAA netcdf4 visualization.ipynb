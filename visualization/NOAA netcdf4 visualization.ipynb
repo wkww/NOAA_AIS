{
 "cells": [
  {
   "cell_type": "code",
   "execution_count": 6,
   "metadata": {},
   "outputs": [],
   "source": [
    "import xarray as xr\n",
    "import plotly as plty\n",
    "import plotly.plotly as py\n",
    "import plotly.offline as py_off\n",
    "from plotly.graph_objs import *\n",
    "import numpy as np\n",
    "from scipy.io import netcdf\n",
    "\n"
   ]
  },
  {
   "cell_type": "code",
   "execution_count": 7,
   "metadata": {},
   "outputs": [],
   "source": [
    "mapbox_access_token = 'pk.eyJ1IjoiamFja3AiLCJhIjoidGpzN0lXVSJ9.7YK6eRwUNFwd3ODZff6JvA'\n",
    "plty.tools.set_credentials_file(username='__username__', api_key='__key__')"
   ]
  },
  {
   "cell_type": "code",
   "execution_count": 17,
   "metadata": {},
   "outputs": [],
   "source": [
    "f_path = '/Downloads/avhrr-only-v2.20150101.nc'\n",
    "\n",
    "from netCDF4 import Dataset\n",
    "\n",
    "f = Dataset(f_path)\n",
    "ds2 = xr.open_dataset(xr.backends.NetCDF4DataStore(f))\n",
    "\n"
   ]
  },
  {
   "cell_type": "code",
   "execution_count": 28,
   "metadata": {},
   "outputs": [
    {
     "data": {
      "text/plain": [
       "(1036800, 1036800)"
      ]
     },
     "execution_count": 28,
     "metadata": {},
     "output_type": "execute_result"
    }
   ],
   "source": [
    "df2 = ds2.to_dataframe()\n",
    "df_sub = df2\n",
    "len(df_sub.index.get_level_values('lon')), len(df_sub['sst']) "
   ]
  },
  {
   "cell_type": "code",
   "execution_count": 29,
   "metadata": {},
   "outputs": [],
   "source": [
    "step = 1.0\n",
    "to_bin = lambda x: np.floor(x / step) * step\n",
    "df_sub[\"latbin\"] = df_sub.index.get_level_values('lat').map(to_bin)\n",
    "df_sub[\"lonbin\"] = df_sub.index.get_level_values('lon').map(to_bin)\n",
    "groups = df_sub.groupby((\"latbin\", \"lonbin\"))\n"
   ]
  },
  {
   "cell_type": "code",
   "execution_count": 30,
   "metadata": {},
   "outputs": [],
   "source": [
    "df_flat = df_sub.drop_duplicates(subset=['latbin', 'lonbin'])\n",
    "\n",
    "df_no_nan = df_flat[np.isfinite(df_flat['sst'])]\n",
    "\n",
    "len(df_no_nan)\n",
    "\n",
    "df_no_nan.tail()\n",
    "\n",
    "df_no_nan = df_no_nan[(df_no_nan.latbin < 76.0) & (df_no_nan.latbin > -66.0)]\n",
    "\n",
    "colorscale = [[0, 'rgb(54, 50, 153)'], [0.35, 'rgb(17, 123, 215)'],\n",
    "                [0.5, 'rgb(37, 180, 167)'], [0.6, 'rgb(134, 191, 118)'],\n",
    "                [0.7, 'rgb(249, 210, 41)'], [1.0, 'rgb(244, 236, 21)']]"
   ]
  },
  {
   "cell_type": "code",
   "execution_count": 31,
   "metadata": {},
   "outputs": [
    {
     "name": "stderr",
     "output_type": "stream",
     "text": [
      "/anaconda3/lib/python3.6/site-packages/plotly/graph_objs/_deprecations.py:426: DeprecationWarning:\n",
      "\n",
      "plotly.graph_objs.Marker is deprecated.\n",
      "Please replace it with one of the following more specific types\n",
      "  - plotly.graph_objs.scatter.Marker\n",
      "  - plotly.graph_objs.histogram.selected.Marker\n",
      "  - etc.\n",
      "\n",
      "\n"
     ]
    },
    {
     "name": "stdout",
     "output_type": "stream",
     "text": [
      "High five! You successfully sent some data to your account on plotly. View your plot in your browser at https://plot.ly/~wkwww/0 or inside your plot.ly account where it is named 'Da_Weather_2.html'\n"
     ]
    },
    {
     "data": {
      "text/html": [
       "<iframe id=\"igraph\" scrolling=\"no\" style=\"border:none;\" seamless=\"seamless\" src=\"https://plot.ly/~wkwww/0.embed\" height=\"525px\" width=\"100%\"></iframe>"
      ],
      "text/plain": [
       "<plotly.tools.PlotlyDisplay object>"
      ]
     },
     "execution_count": 31,
     "metadata": {},
     "output_type": "execute_result"
    }
   ],
   "source": [
    "data = []\n",
    "\n",
    "data.append(\n",
    "    Scattermapbox(\n",
    "        lon=df_no_nan['lonbin'].values,\n",
    "        lat=df_no_nan['latbin'].values,\n",
    "        mode='markers',\n",
    "        marker=Marker(\n",
    "            color=df_no_nan['sst'].values,\n",
    "            colorscale=colorscale\n",
    "        ),\n",
    "    )\n",
    ")\n",
    "        \n",
    "layout = Layout(\n",
    "    margin=dict(t=0,b=0,r=0,l=0),\n",
    "    autosize=True,\n",
    "    hovermode='closest',\n",
    "    showlegend=False,\n",
    "    mapbox=dict(\n",
    "        accesstoken=mapbox_access_token,\n",
    "        bearing=0,\n",
    "        center=dict(\n",
    "            lat=38,\n",
    "            lon=-94\n",
    "        ),\n",
    "        pitch=0,\n",
    "        zoom=0,\n",
    "        style='light'\n",
    "    ),\n",
    ")\n",
    "\n",
    "fig = dict(data=data, layout=layout)\n",
    "py.iplot(fig, filename='Da_Weather_2.html')\n"
   ]
  },
  {
   "cell_type": "code",
   "execution_count": null,
   "metadata": {},
   "outputs": [],
   "source": []
  },
  {
   "cell_type": "code",
   "execution_count": null,
   "metadata": {},
   "outputs": [],
   "source": []
  }
 ],
 "metadata": {
  "kernelspec": {
   "display_name": "Python 3",
   "language": "python",
   "name": "python3"
  },
  "language_info": {
   "codemirror_mode": {
    "name": "ipython",
    "version": 3
   },
   "file_extension": ".py",
   "mimetype": "text/x-python",
   "name": "python",
   "nbconvert_exporter": "python",
   "pygments_lexer": "ipython3",
   "version": "3.6.4"
  }
 },
 "nbformat": 4,
 "nbformat_minor": 2
}
