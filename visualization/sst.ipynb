{
 "cells": [
  {
   "cell_type": "code",
   "execution_count": 7,
   "metadata": {},
   "outputs": [],
   "source": [
    "import xarray as xr\n",
    "import plotly as plty\n",
    "import plotly.plotly as py\n",
    "import plotly.offline as py_off\n",
    "from plotly.graph_objs import *\n",
    "import numpy as np\n",
    "from scipy.io import netcdf\n",
    "\n"
   ]
  },
  {
   "cell_type": "code",
   "execution_count": 8,
   "metadata": {},
   "outputs": [],
   "source": [
    "mapbox_access_token = 'pk.eyJ1IjoiamFja3AiLCJhIjoidGpzN0lXVSJ9.7YK6eRwUNFwd3ODZff6JvA'\n",
    "plty.tools.set_credentials_file(username='JOHNSMITH', api_key='____')"
   ]
  },
  {
   "cell_type": "code",
   "execution_count": 9,
   "metadata": {},
   "outputs": [],
   "source": [
    "f_path = '/Users/JOHNSMITH/Downloads/avhrr-only-v2.19811231.nc'\n",
    "\n",
    "from netCDF4 import Dataset\n",
    "\n",
    "f = Dataset(f_path)\n",
    "ds2 = xr.open_dataset(xr.backends.NetCDF4DataStore(f))\n",
    "\n",
    "\n",
    "filepath1981='/Users/JOHNSMITH/Downloads/avhrr-only-v2.19811231.nc'\n",
    "df1981 = xr.open_dataset(xr.backends.NetCDF4DataStore(Dataset(filepath1981))).to_dataframe()\n",
    "filepath1993='/Users/JOHNSMITH/Downloads/avhrr-only-v2.19931231.nc'\n",
    "df1993 = xr.open_dataset(xr.backends.NetCDF4DataStore(Dataset(filepath1993))).to_dataframe()\n",
    "filepath2015='/Users/JOHNSMITH/Downloads/avhrr-only-v2.20151231.nc'\n",
    "df2015 = xr.open_dataset(xr.backends.NetCDF4DataStore(Dataset(filepath2015))).to_dataframe()\n",
    "\n",
    "step = 1.0\n",
    "to_bin = lambda x: np.floor(x / step) * step\n",
    "\n",
    "df1981[\"latbin\"] = df1981.index.get_level_values('lat').map(to_bin)\n",
    "df1981[\"lonbin\"] = df1981.index.get_level_values('lon').map(to_bin)\n",
    "df1981flat = df1981.drop_duplicates(subset=['latbin', 'lonbin'])\n",
    "df1981_no_nan = df1981flat[np.isfinite(df1981flat['sst'])]\n",
    "\n",
    "df1993[\"latbin\"] = df1993.index.get_level_values('lat').map(to_bin)\n",
    "df1993[\"lonbin\"] = df1993.index.get_level_values('lon').map(to_bin)\n",
    "df1993flat = df1993.drop_duplicates(subset=['latbin', 'lonbin'])\n",
    "df1993_no_nan = df1993flat[np.isfinite(df1993flat['sst'])]                                    \n",
    "\n",
    "df2015[\"latbin\"] = df2015.index.get_level_values('lat').map(to_bin)\n",
    "df2015[\"lonbin\"] = df2015.index.get_level_values('lon').map(to_bin)\n",
    "df2015flat = df2015.drop_duplicates(subset=['latbin', 'lonbin'])\n",
    "df2015_no_nan = df2015flat[np.isfinite(df2015flat['sst'])]"
   ]
  },
  {
   "cell_type": "code",
   "execution_count": 10,
   "metadata": {},
   "outputs": [
    {
     "data": {
      "text/plain": [
       "(1036800, 1036800)"
      ]
     },
     "execution_count": 10,
     "metadata": {},
     "output_type": "execute_result"
    }
   ],
   "source": [
    "df2 = ds2.to_dataframe()\n",
    "df_sub = df2\n",
    "len(df_sub.index.get_level_values('lon')), len(df_sub['sst']) "
   ]
  },
  {
   "cell_type": "code",
   "execution_count": 11,
   "metadata": {},
   "outputs": [],
   "source": [
    "step = 1.0\n",
    "to_bin = lambda x: np.floor(x / step) * step\n",
    "df_sub[\"latbin\"] = df_sub.index.get_level_values('lat').map(to_bin)\n",
    "df_sub[\"lonbin\"] = df_sub.index.get_level_values('lon').map(to_bin)\n",
    "groups = df_sub.groupby((\"latbin\", \"lonbin\"))\n"
   ]
  },
  {
   "cell_type": "code",
   "execution_count": 12,
   "metadata": {},
   "outputs": [],
   "source": [
    "df_flat = df_sub.drop_duplicates(subset=['latbin', 'lonbin'])\n",
    "\n",
    "df_no_nan = df_flat[np.isfinite(df_flat['sst'])]\n",
    "\n",
    "len(df_no_nan)\n",
    "\n",
    "df_no_nan.tail()\n",
    "\n",
    "colorscale = [[0, 'rgb(54, 50, 153)'], \n",
    "              [0.35, 'rgb(17, 123, 215)'],\n",
    "              [0.5, 'rgb(37, 180, 167)'], \n",
    "              [0.6, 'rgb(134, 191, 118)'],\n",
    "              [0.7, 'rgb(249, 210, 41)'], \n",
    "              [1.0, 'rgb(165,0,38)']]"
   ]
  },
  {
   "cell_type": "code",
   "execution_count": 15,
   "metadata": {},
   "outputs": [
    {
     "name": "stderr",
     "output_type": "stream",
     "text": [
      "/anaconda3/lib/python3.6/site-packages/plotly/graph_objs/_deprecations.py:426: DeprecationWarning:\n",
      "\n",
      "plotly.graph_objs.Marker is deprecated.\n",
      "Please replace it with one of the following more specific types\n",
      "  - plotly.graph_objs.scatter.Marker\n",
      "  - plotly.graph_objs.histogram.selected.Marker\n",
      "  - etc.\n",
      "\n",
      "\n"
     ]
    }
   ],
   "source": [
    "plotobj1981=Scattermapbox(\n",
    "        lon=df1981_no_nan['lonbin'].values,\n",
    "        lat=df1981_no_nan['latbin'].values,\n",
    "        mode='markers',\n",
    "        marker=Marker(\n",
    "            color=df1981_no_nan['sst'].values,\n",
    "            colorbar=dict(\n",
    "                title='Colorbar'\n",
    "            ),\n",
    "            colorscale=colorscale\n",
    "            \n",
    "        )\n",
    ")\n",
    "\n",
    "plotobj1993=Scattermapbox(\n",
    "        lon=df1993_no_nan['lonbin'].values,\n",
    "        lat=df1993_no_nan['latbin'].values,\n",
    "        mode='markers',\n",
    "        visible=False,\n",
    "        marker=Marker(\n",
    "            color=df1993_no_nan['sst'].values,\n",
    "            colorbar=dict(\n",
    "                title='Colorbar'\n",
    "            ),\n",
    "            colorscale=colorscale\n",
    "            \n",
    "        )\n",
    ")\n",
    "\n",
    "plotobj2015=Scattermapbox(\n",
    "        lon=df2015_no_nan['lonbin'].values,\n",
    "        lat=df2015_no_nan['latbin'].values,\n",
    "        mode='markers',\n",
    "        visible=False,\n",
    "        marker=Marker(\n",
    "            color=df2015_no_nan['sst'].values,\n",
    "            colorbar=dict(\n",
    "                title='Colorbar'\n",
    "            ),\n",
    "            colorscale=colorscale\n",
    "            \n",
    "        )\n",
    ")\n",
    "\n",
    "data = [plotobj1981,plotobj1993,plotobj2015]"
   ]
  },
  {
   "cell_type": "code",
   "execution_count": 18,
   "metadata": {},
   "outputs": [
    {
     "name": "stderr",
     "output_type": "stream",
     "text": [
      "/anaconda3/lib/python3.6/site-packages/plotly/plotly/plotly.py:230: UserWarning:\n",
      "\n",
      "Woah there! Look at all those points! Due to browser limitations, the Plotly SVG drawing functions have a hard time graphing more than 500k data points for line charts, or 40k points for other types of charts. Here are some suggestions:\n",
      "(1) Use the `plotly.graph_objs.Scattergl` trace object to generate a WebGl graph.\n",
      "(2) Trying using the image API to return an image instead of a graph URL\n",
      "(3) Use matplotlib\n",
      "(4) See if you can create your visualization with fewer data points\n",
      "\n",
      "If the visualization you're using aggregates points (e.g., box plot, histogram, etc.) you can disregard this warning.\n",
      "\n"
     ]
    },
    {
     "data": {
      "text/html": [
       "<iframe id=\"igraph\" scrolling=\"no\" style=\"border:none;\" seamless=\"seamless\" src=\"https://plot.ly/~wkwww/4.embed\" height=\"525px\" width=\"100%\"></iframe>"
      ],
      "text/plain": [
       "<plotly.tools.PlotlyDisplay object>"
      ]
     },
     "execution_count": 18,
     "metadata": {},
     "output_type": "execute_result"
    }
   ],
   "source": [
    "updatemenus = list([\n",
    "    dict(type=\"buttons\",\n",
    "         active=0,\n",
    "         buttons=list([\n",
    "            dict(label = 'Dec31-1981',\n",
    "                 method = 'update',\n",
    "                 args = [{'visible': [True, False, False]},\n",
    "                         {'title': 'NOAA AVHRR Sea Surface Temp Dec31-1981'}]),\n",
    "            dict(label = 'Dec31-1993',\n",
    "                 method = 'update',\n",
    "                 args = [{'visible': [False, True, False]},\n",
    "                         {'title': ' NOAA AVHRR Sea Surface Temp Dec31-1993'}]),\n",
    "            dict(label = 'Dec31-2015',\n",
    "                 method = 'update',\n",
    "                 args = [{'visible': [False, False, True]},\n",
    "                         {'title': 'NOAA AVHRR Sea Surface Temp Dec31-2015'}]),\n",
    "        ]),\n",
    "    )\n",
    "])\n",
    "\n",
    "layout = Layout(\n",
    "    margin=dict(t=40,b=0,r=0,l=0),\n",
    "    title='NOAA AVHRR Sea Surface Temp Dec31-1981',\n",
    "    titlefont=dict(size=18),\n",
    "    autosize=True,\n",
    "    hovermode='closest',\n",
    "    showlegend=False,\n",
    "    mapbox=dict(\n",
    "        accesstoken=mapbox_access_token,\n",
    "        bearing=0,\n",
    "        center=dict(\n",
    "            lat=20,\n",
    "            lon=330\n",
    "        ),\n",
    "        pitch=0,\n",
    "        zoom=1,\n",
    "        style='light'\n",
    "    ),\n",
    "    updatemenus=updatemenus\n",
    ")\n",
    "\n",
    "fig = dict(data=data, layout=layout)\n",
    "py.iplot(fig, filename='SST1981-2015.html')"
   ]
  },
  {
   "cell_type": "code",
   "execution_count": null,
   "metadata": {},
   "outputs": [],
   "source": []
  }
 ],
 "metadata": {
  "kernelspec": {
   "display_name": "Python 3",
   "language": "python",
   "name": "python3"
  },
  "language_info": {
   "codemirror_mode": {
    "name": "ipython",
    "version": 3
   },
   "file_extension": ".py",
   "mimetype": "text/x-python",
   "name": "python",
   "nbconvert_exporter": "python",
   "pygments_lexer": "ipython3",
   "version": "3.6.4"
  }
 },
 "nbformat": 4,
 "nbformat_minor": 2
}
