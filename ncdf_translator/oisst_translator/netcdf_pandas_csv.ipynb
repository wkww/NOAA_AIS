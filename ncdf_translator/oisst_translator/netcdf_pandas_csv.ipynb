{
 "cells": [
  {
   "cell_type": "code",
   "execution_count": 80,
   "metadata": {},
   "outputs": [],
   "source": [
    "import os\n",
    "import numpy as np\n",
    "import netCDF4 \n",
    "import csv\n",
    "import pandas as pd"
   ]
  },
  {
   "cell_type": "code",
   "execution_count": 81,
   "metadata": {},
   "outputs": [],
   "source": [
    "#navigating to folder location. You may have to change this.\n",
    "base_dir = os.path.abspath(os.path.dirname( '//your oisst ncdf file here//'))\n",
    "\n",
    "for file in os.listdir(base_dir):\n",
    "    if file.endswith(\".nc\"):\n",
    "        dataset = netCDF4.Dataset(base_dir+\"/\"+file)\n",
    "        \n",
    "        lat = dataset.variables['lat'][:]\n",
    "        lon = dataset.variables['lon'][:]\n",
    "        time_var = dataset.variables['time']\n",
    "        zlev = dataset.variables['zlev']\n",
    "        sst = dataset.variables['sst']\n",
    "        anom  = dataset.variables['anom']\n",
    "        err = dataset.variables['err']\n",
    "        ice = dataset.variables['ice']\n",
    "\n",
    "        df_lat = pd.DataFrame(data=lat[:])\n",
    "        df_lat = pd.DataFrame(np.repeat(df_lat.values,1440,axis=0), columns={'lat'})   \n",
    "        df_lon= pd.DataFrame(data=lon[:])\n",
    "        df_lon = pd.DataFrame(np.repeat(df_lon.values,720,axis=0), columns={'lon'})\n",
    "        df_time = pd.DataFrame(np.repeat([time_var[0]],1036800, axis=0), columns={'time'})\n",
    "        df_zlev = pd.DataFrame(np.repeat([zlev[0]],1036800, axis=0), columns={'zlev'})\n",
    "        base_df = pd.concat([df_time, df_zlev, df_lat, df_lon], axis=1)\n",
    "        \n",
    "        \n",
    "        # Ice data\n",
    "        # If you print the variable ice, you'll find: \n",
    "        #   int16 ice(time, zlev, lat, lon)\n",
    "        #   ...\n",
    "        #   current shape = (1, 1, 720, 1440)\n",
    "        # base_df is of size 1036800 x 4 so we just have to append the ice values, preserving the order of the values\n",
    "        raw_icedata = ice[0,0,:,:]\n",
    "        df_ice = pd.DataFrame(data=np.ndarray.flatten(raw_icedata), columns={'ice'})\n",
    "        df_ice = pd.concat([base_df, df_ice],axis=1)     \n",
    "        \n",
    "        \n",
    "        # SST data\n",
    "        # Same principle as Ice data\n",
    "        raw_sstdata = sst[0,0,:,:]\n",
    "        df_sst = pd.DataFrame(data=np.ndarray.flatten(raw_sstdata), columns={'sst'})\n",
    "        df_sst = pd.concat([base_df, df_sst],axis=1)   \n",
    "        \n",
    "        # ANOM data\n",
    "        # Same principle as Ice data\n",
    "        raw_anomdata = anom[0,0,:,:]\n",
    "        df_anom = pd.DataFrame(data=np.ndarray.flatten(raw_anomdata), columns={'anom'})\n",
    "        df_anom = pd.concat([base_df, df_anom],axis=1)   \n",
    "        \n",
    "        # ERR data\n",
    "        # Same principle as Ice data\n",
    "        raw_errdata = err[0,0,:,:]\n",
    "        df_err = pd.DataFrame(data=np.ndarray.flatten(raw_errdata), columns={'err'})\n",
    "        df_err = pd.concat([base_df, df_err],axis=1)   \n",
    "\n",
    "\n",
    "dataset.close()\n",
    "        \n"
   ]
  },
  {
   "cell_type": "code",
   "execution_count": 83,
   "metadata": {},
   "outputs": [],
   "source": [
    "df_ice.to_csv('ice_data.csv', line_terminator='\\n', index=False, header=True)\n",
    "df_err.to_csv('err_data.csv', line_terminator='\\n', index=False, header=True)\n",
    "df_sst.to_csv('sst_data.csv', line_terminator='\\n', index=False, header=True)\n",
    "df_anom.to_csv('anom_data.csv', line_terminator='\\n', index=False, header=True)"
   ]
  },
  {
   "cell_type": "code",
   "execution_count": null,
   "metadata": {},
   "outputs": [],
   "source": []
  },
  {
   "cell_type": "code",
   "execution_count": null,
   "metadata": {},
   "outputs": [],
   "source": []
  },
  {
   "cell_type": "code",
   "execution_count": null,
   "metadata": {},
   "outputs": [],
   "source": []
  }
 ],
 "metadata": {
  "kernelspec": {
   "display_name": "Python 3",
   "language": "python",
   "name": "python3"
  },
  "language_info": {
   "codemirror_mode": {
    "name": "ipython",
    "version": 3
   },
   "file_extension": ".py",
   "mimetype": "text/x-python",
   "name": "python",
   "nbconvert_exporter": "python",
   "pygments_lexer": "ipython3",
   "version": "3.6.4"
  }
 },
 "nbformat": 4,
 "nbformat_minor": 2
}
